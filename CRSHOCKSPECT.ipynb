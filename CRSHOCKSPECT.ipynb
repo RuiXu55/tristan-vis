{
 "cells": [
  {
   "cell_type": "markdown",
   "metadata": {},
   "source": [
    "### Cosmic-Ray modified Spectrum"
   ]
  },
  {
   "cell_type": "code",
   "execution_count": 1,
   "metadata": {
    "collapsed": true
   },
   "outputs": [],
   "source": [
    "import numpy as np\n",
    "from scipy.integrate import odeint\n",
    "import matplotlib.pyplot as plt\n",
    "%matplotlib inline"
   ]
  },
  {
   "cell_type": "code",
   "execution_count": 2,
   "metadata": {
    "collapsed": true
   },
   "outputs": [],
   "source": [
    "def model(x, t, a, rsub, rtot):\n",
    "    p     = t\n",
    "    u     = x[0]\n",
    "    dudp  = x[1]\n",
    "    \n",
    "    coef  = -(gamma+1)*u**(-(gamma+2))/(m0**2-u**(-(gamma+1)))*dudp\n",
    "    vp    = 1./np.sqrt(1.+1./p**2)\n",
    "    dvp   = (1+1./p**2)**(-1.5)/p**3\n",
    "    coef += 3/p +dvp/vp\n",
    "    coef += -rtot/(rtot*u-1)*dudp - 3*rtot*u/p/(rtot*u-1)\n",
    "    \n",
    "    dudp2 = dudp*coef \n",
    "    return [dudp,dudp2]"
   ]
  },
  {
   "cell_type": "code",
   "execution_count": 3,
   "metadata": {
    "collapsed": false
   },
   "outputs": [],
   "source": [
    "'''\n",
    "Calculate CR modified shock spectrum\n",
    "'''\n",
    "def CR_modified_spectrum(m0,eta,c_u0,logpinj,logpmax,u1min,u1max, num=200,error=0.01,gamma=5./3):\n",
    "    sol = 0\n",
    "    for i in range(num):\n",
    "        a    = (u1max-u1min)/num*i+u1min # a = u1/u0\n",
    "        m1   = m0*a**((gamma + 1.)/2.);\n",
    "        rsub = (gamma + 1.)*m1**2/((gamma - 1.)*m1**2 + 2.) # compression ratio for sub-shock\n",
    "        qs   = 3.*rsub/(rsub - 1.)\n",
    "        # total compression ratio\n",
    "        rtot = m0**(2./(gamma+1))*(((gamma+1)*rsub**gamma-(gamma-1)*rsub**(gamma+1.))/2.)**(1./(gamma + 1.)) \n",
    "        if rsub<1. or rsub>4:\n",
    "            print('Error in compression ratio: Rsub!')\n",
    "            continue\n",
    "\n",
    "        p = np.logspace(logpinj,logpmax,200)\n",
    "        # initial condition\n",
    "        u0    = a\n",
    "        dudp0 = 1./3*eta*qs*rtot/rsub/np.sqrt(1.+1./p[0]**2)*c_u0**2/((rtot*a-1)/(rsub-1))/(1.-a**(-(gamma+1))/m0**2)\n",
    "\n",
    "        up = odeint(model,[u0,dudp0],p,args=(a, rsub, rtot))\n",
    "        if up[-1,0]>1.-error and up[-1,0]<1+error:\n",
    "            sol = 1\n",
    "            print ('Solution found!')\n",
    "            break\n",
    "    if sol==0:\n",
    "        print ('No solution satisfies input parameters!')\n",
    "    ### calculate spectrum\n",
    "    Qp = np.linspace(0,1,len(up))\n",
    "    for i in range(len(up)):\n",
    "        if i==0:\n",
    "            dup = (up[i+1,0]-up[i,0])/(p[i+1]-p[i])\n",
    "            print dup, (up[i+1,0]-up[i,0]), (p[i+1]-p[i])\n",
    "        elif i==len(up)-1:\n",
    "            dup = (up[i,0]-up[i-1,0])/(p[i]-p[i-1])\n",
    "        else:\n",
    "            dup = (up[i+1,0]-up[i-1,0])/(p[i+1]-p[i-1])\n",
    "        \n",
    "        Qp[i] = -3*up[i,0]/(up[i,0]-1/rtot) - p[i]/(up[i,0]-1/rtot)*dup\n",
    "        \n",
    "    # x: p/mc, y: p^4 f(p)\n",
    "    return p, p**(Qp+4.)"
   ]
  },
  {
   "cell_type": "code",
   "execution_count": 4,
   "metadata": {
    "collapsed": false
   },
   "outputs": [],
   "source": [
    "def test():\n",
    "    mach    = 43    # sonic mach number\n",
    "    eta     = 1e-3  # injection efficiency\n",
    "    c_u0    = 60    # c/u0\n",
    "    gamma   = 5/3.0 # adiabatic index\n",
    "    error   = 0.5   # how far final u1/u0 from 1\n",
    "    logpinj = -2    # log min momentum\n",
    "    logpmax = 5     # log max momentum \n",
    "    u1min   = 0.1   #u1/u0 minimal value\n",
    "    u1max   = 0.9   # u1/u0 max value\n",
    "    num     = 2000  # iteration num for u1 from min to max\n",
    "    p,fp = CR_modified_spectrum(mach,eta,c_u0,logpinj,logpmax,u1min,u1max, num,error,gamma)\n",
    "    plt.loglog(p,fp)\n",
    "    plt.xlabel('p/mc')\n",
    "    plt.ylabel('$p^4f(p)$')"
   ]
  },
  {
   "cell_type": "code",
   "execution_count": null,
   "metadata": {
    "collapsed": false
   },
   "outputs": [],
   "source": []
  },
  {
   "cell_type": "code",
   "execution_count": null,
   "metadata": {
    "collapsed": true
   },
   "outputs": [],
   "source": []
  }
 ],
 "metadata": {
  "kernelspec": {
   "display_name": "Python [Root]",
   "language": "python",
   "name": "Python [Root]"
  },
  "language_info": {
   "codemirror_mode": {
    "name": "ipython",
    "version": 2
   },
   "file_extension": ".py",
   "mimetype": "text/x-python",
   "name": "python",
   "nbconvert_exporter": "python",
   "pygments_lexer": "ipython2",
   "version": "2.7.12"
  }
 },
 "nbformat": 4,
 "nbformat_minor": 0
}

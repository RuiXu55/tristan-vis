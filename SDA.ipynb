{
 "cells": [
  {
   "cell_type": "markdown",
   "metadata": {},
   "source": [
    "### Functions related to short-drift acceleration (SDA)"
   ]
  },
  {
   "cell_type": "code",
   "execution_count": 1,
   "metadata": {
    "collapsed": false
   },
   "outputs": [
    {
     "name": "stdout",
     "output_type": "stream",
     "text": [
      "importing Jupyter notebook from DataProcess.ipynb\n",
      "importing Jupyter notebook from INITMAXWELL.ipynb\n"
     ]
    }
   ],
   "source": [
    "import numpy as np\n",
    "%run LoadNotebook\n",
    "%matplotlib inline\n",
    "import warnings\n",
    "import DataProcess as R\n",
    "import INITMAXWELL as INITMAX\n",
    "import scipy.special as sp\n",
    "from scipy.special import kn\n",
    "import matplotlib.pyplot as plt\n",
    "from scipy.optimize import fsolve\n",
    "import scipy.integrate as integrate\n",
    "warnings.filterwarnings('ignore')"
   ]
  },
  {
   "cell_type": "code",
   "execution_count": 2,
   "metadata": {
    "collapsed": false
   },
   "outputs": [],
   "source": [
    "'''\n",
    "energy spectrum of kappa distribution before and after SDA\n",
    "# me      : electron mass in unit KeV\n",
    "# num     : data points\n",
    "# kappa   : used for kappa distribution\n",
    "# Te      : kappa distribution temperature T/(me*c^2)\n",
    "# theta_b : angle between B and shock normal or btheta\n",
    "# beta_sh : shock velocity in upstream rest frame Vsh/c\n",
    "# r       : compression ratio\n",
    "# ePhi    : electric potential in  unit 1/(meC^2)\n",
    "'''\n",
    "def nonrel_sda_spectrum(me,num,kappa,Te,theta_b,beta_sh,r,ePhi):\n",
    "    beta    = np.linspace(0.0001,0.5,num)\n",
    "    fe      = np.linspace(0,1,num)\n",
    "    gamma   = 1./np.sqrt(1.-beta**2)\n",
    "    Energy  = (gamma-1)*me # kinetic energy\n",
    "\n",
    "    '''\n",
    "    kappa distribution\n",
    "    '''\n",
    "    f_kappa0 = (1.+2*(gamma-1)/(2*kappa-3)/Te)**(-kappa-1.)\n",
    "    dBetadE  = (1.-beta**2)**1.5/beta\n",
    "    f_kappaE = f_kappa0*dBetadE\n",
    "\n",
    "    beta_s  = beta_sh/np.cos(theta_b) # dHT and upstream rest frame Transformation v.\n",
    "\n",
    "    alpha0  = np.arcsin(1/np.sqrt(r))\n",
    "    D       = np.tan(alpha0)/np.sqrt(1-beta_s**2) # D =gamma_s*tan(alpha0)\n",
    "    P       = 2.*ePhi    \n",
    "    beta_thres = np.sqrt((D**2*((1-beta_s)**2*D**2*P**2*(P-(1+beta_s**2))+\\\n",
    "            beta_s**2-P))/(1+D**2*(1-P*beta_s**2)))\n",
    "    beta_trans = np.sqrt(beta_s**2 -(1.-beta_s**2)*P*np.tan(alpha0)**2)\n",
    "    E_trans = 1./np.sqrt(1-beta_trans**2)-1.\n",
    "\n",
    "    '''\n",
    "    solve t1, and t3. where t3<t2<t1\n",
    "    '''\n",
    "    def rootfun(x,i):\n",
    "        return x**2*(1+D**2*(1-P*beta_s**2))- \\\n",
    "            2*x*D**2*beta_s/beta[i]*(1-P)+\\\n",
    "            D**2/beta[i]**2*(beta_s**2-P)-1\n",
    "     \n",
    "    '''\n",
    "    integrate over SDA region\n",
    "    '''\n",
    "    def intsda(x,i):\n",
    "        jac = (1-beta_s)**4/(1-2*beta_s*beta[i]*x+beta_s**2)**4\n",
    "        sin = np.sqrt(1-x**2)\n",
    "        betai_parallel = (2*beta_s- beta[i]*x*(1+beta_s**2))/(1-2*beta_s*beta[i]*x+beta_s**2)\n",
    "        betai_perp     = beta[i]*sin/(1./np.sqrt(1-beta_s**2)*(1-2*beta_s*beta[i]*x+beta_s**2))\n",
    "        betai  = np.sqrt(betai_parallel**2+betai_perp**2)\n",
    "        gammai = 1./np.sqrt(1-betai**2)    \n",
    "        return jac*(1.+2*(gammai-1)/(2*kappa-3)/Te)**(-kappa-1.)\n",
    "\n",
    "\n",
    "    for i in range(num):\n",
    "        f_kappa= (1.+2*(gamma[i]-1)/(2*kappa-3)/Te)**(-kappa-1.)\n",
    "        if beta[i]<beta_thres:\n",
    "            fe[i]= 2.*f_kappa\n",
    "        else:\n",
    "            t3 = fsolve(rootfun,-1.,args=(i))  \n",
    "            t1 = fsolve(rootfun,1.,args=(i))  \n",
    "            if np.abs(t1)>1. or np.abs(t3)>1. or t1<t3:\n",
    "                pass\n",
    "                #print ('Error in t1/t3!')            \n",
    "            if beta[i]<beta_trans:\n",
    "                result = integrate.quad(intsda, t3, t1, args=(i))\n",
    "                fe[i] = (2.-(t1-t3))*f_kappa + result[0]\n",
    "            else:\n",
    "                result = integrate.quad(intsda, t3, beta_s/beta[i], args=(i))\n",
    "                fe[i] = (2-(t1-beta_s/beta[i]))*f_kappa+ result[0]\n",
    "        fe[i] *= 0.5\n",
    "    # Energy:unit KeV, y: unit f_e(E)\n",
    "    return Energy, fe*dBetadE, f_kappaE"
   ]
  },
  {
   "cell_type": "code",
   "execution_count": 3,
   "metadata": {
    "collapsed": true
   },
   "outputs": [],
   "source": [
    "# ePhi = Delta(Phi)/m_e*c^2\n",
    "# r = B/B0 compression ratio\n",
    "# vsh_up = shock velocity in upstream rest frame\n",
    "def SDA_reflection_curve(vsh_up, theta_b, ePhi, r, bpara_num):\n",
    "    beta_parallel = np.linspace(-1.,1,bpara_num)\n",
    "    circ = np.sqrt(1-beta_parallel**2)\n",
    "\n",
    "    beta_s = vsh_up/np.cos(theta_b)\n",
    "    gamma_s = 1./np.sqrt(1-beta_s**2)\n",
    "\n",
    "    alpha0 = np.arcsin(1./np.sqrt(r))\n",
    "\n",
    "    beta_para_HT = (beta_parallel-beta_s)/(1-beta_parallel*beta_s)\n",
    "    beta_perp_HT = gamma_s*np.abs(beta_para_HT-beta_s)*np.tan(alpha0)\n",
    "\n",
    "    beta_perp = gamma_s*(1-beta_s*beta_parallel)*np.sqrt(beta_para_HT**2*np.tan(alpha0)**2+\\\n",
    "            2*ePhi*np.sqrt(1./r-beta_para_HT**2*np.tan(alpha0)**2)*\\\n",
    "            np.sqrt(1./r)+ePhi**2*(1./r-beta_para_HT**2*np.tan(alpha0)**2))\n",
    "    return beta_parallel[~np.isnan(beta_perp)], beta_perp[~np.isnan(beta_perp)]"
   ]
  },
  {
   "cell_type": "code",
   "execution_count": 4,
   "metadata": {
    "collapsed": true
   },
   "outputs": [],
   "source": [
    "# ePhi = Delta(Phi)/m_e*c^2\n",
    "# r = B/B0 compression ratio\n",
    "# vsh_up = shock velocity in upstream rest frame\n",
    "def SDA_reflection_curve1(delgam,mi,Ms, theta_b, ePhi, r, bpara_num):\n",
    "    beta_parallel = np.linspace(-1.,1,bpara_num)\n",
    "    circ = np.sqrt(1-beta_parallel**2)\n",
    "\n",
    "    # THE ONLY CHANGE: write beta_s in other terms\n",
    "    gamma_adia = 5./3.\n",
    "    beta_s = np.sqrt(2.*gamma_adia*delgam/mi)*Ms/np.cos(theta_b)\n",
    "    print 'beta_s',beta_s\n",
    "    gamma_s = 1./np.sqrt(1-beta_s**2)\n",
    "\n",
    "    alpha0 = np.arcsin(1./np.sqrt(r))\n",
    "\n",
    "    beta_para_HT = (beta_parallel-beta_s)/(1-beta_parallel*beta_s)\n",
    "    beta_perp_HT = gamma_s*np.abs(beta_para_HT-beta_s)*np.tan(alpha0)\n",
    "\n",
    "    beta_perp = gamma_s*(1-beta_s*beta_parallel)*np.sqrt(beta_para_HT**2*np.tan(alpha0)**2+\\\n",
    "            2*ePhi*np.sqrt(1./r-beta_para_HT**2*np.tan(alpha0)**2)*\\\n",
    "            np.sqrt(1./r)+ePhi**2*(1./r-beta_para_HT**2*np.tan(alpha0)**2))\n",
    "    return beta_parallel[~np.isnan(beta_perp)], beta_perp[~np.isnan(beta_perp)]"
   ]
  },
  {
   "cell_type": "code",
   "execution_count": 5,
   "metadata": {
    "collapsed": true
   },
   "outputs": [],
   "source": [
    "'''\n",
    "Construct Synthetic spectrum before and after SDA \n",
    "(In upstream rest frame)\n",
    "'''\n",
    "def Prtl_SDA_reflection(vsh_up, btheta, beta_parallel,beta_perp,bpa,bpr,gam0):\n",
    "    bpa0 = np.copy(bpa)\n",
    "    bpr0 = np.copy(bpr)\n",
    "    gam  = np.copy(gam0)\n",
    "    beta_ind = np.searchsorted(beta_parallel,bpa)\n",
    "    beta_s = vsh_up/np.cos(btheta)\n",
    "    gamma_s = 1./np.sqrt(1-beta_s**2)\n",
    "  \n",
    "    ind = 0\n",
    "    for i in range(len(gam0)):\n",
    "        #check if the particle is reflected\n",
    "        if bpa[i]>beta_s or bpa[i]<beta_parallel[0]:\n",
    "            pass\n",
    "        elif bpr[i]<=beta_perp[beta_ind[i]]:\n",
    "            pass\n",
    "        else:\n",
    "            ind += 1\n",
    "            # calculate reflected particles' momentum/energy\n",
    "            gamma_tmp = 1./np.sqrt(1.-bpa[i]**2-bpr[i]**2)\n",
    "            Delta     = 2*beta_s*(beta_s-bpa[i])/(1-beta_s**2)\n",
    "            gamma_r   = gamma_tmp*(1+Delta)\n",
    "        \n",
    "            bpa0[i]   = gamma_s**2*(2*beta_s-bpa[i]*(1+beta_s**2))/(1+Delta)\n",
    "            bpr0[i]   = bpr[i]/(1+Delta)\n",
    "            gam[i]    = 1./np.sqrt(1-bpa0[i]**2-bpr0[i]**2)\n",
    "    frac = float(ind)/len(gam0)   \n",
    "    return bpa0,bpr0,gam,frac"
   ]
  },
  {
   "cell_type": "code",
   "execution_count": 6,
   "metadata": {
    "collapsed": false
   },
   "outputs": [],
   "source": [
    "def rel_sda_spectrum(prtl_num,delgam,pdf_sz,vsh_up,btheta,ePhi,r):\n",
    "    # generate maxwell-junitter particles\n",
    "    gam0, bpa,bpr = INITMAX.generate_maxwell_dist(prtl_num,delgam,pdf_sz,btheta,outform='polar',)\n",
    "    # calculate maxwell-spectrum\n",
    "    gamma_list, fe = INITMAX.prtl_distribution(gam0,gambins=150,gammin=-4,gammax=1)\n",
    "    # calculate SDA reflection criteria\n",
    "    bpara_crit,bperp_crit = SDA_reflection_curve(vsh_up, btheta, ePhi,r,bpara_num=200)\n",
    "    # compute particle energy after SDA\n",
    "    bpar,bprr,gamr,_ = Prtl_SDA_reflection(vsh_up,btheta,bpara_crit,bperp_crit,bpa,bpr,gam0)\n",
    "    # calculate spectrum after SDA\n",
    "    gamma_list, fsda = INITMAX.prtl_distribution(gamr,gambins=150,gammin=-4,gammax=1)\n",
    "    #return bpa, bpr,gam0, bpar,bparr,gamr\n",
    "    return gamma_list, fe, fsda"
   ]
  },
  {
   "cell_type": "code",
   "execution_count": 7,
   "metadata": {
    "collapsed": true
   },
   "outputs": [],
   "source": [
    "def phase_dist(dpath,ind,xL,xR,BetaBoost):\n",
    "    vex  = R.readprtl(dpath,'ve',ind) # gamma*beta\n",
    "    vey  = R.readprtl(dpath,'ue',ind)\n",
    "    vez  = R.readprtl(dpath,'we',ind) \n",
    "    gamprt=np.sqrt(1.+vex**2+vey**2+vez**2)\n",
    "    vex /= gamprt\n",
    "    vey /= gamprt\n",
    "    vez /= gamprt  # beta\n",
    "    if BetaBoost != 0:\n",
    "        GammaBoost = 1./np.sqrt(1.-BetaBoost**2)\n",
    "        tmp = 1-vex*BetaBoost\n",
    "        vex = (vex-BetaBoost)/tmp\n",
    "        vey = vey/GammaBoost/tmp\n",
    "        vez = vez/GammaBoost/tmp\n",
    "    btheta = R.readparam(dpath,'btheta',ind)\n",
    "    vpara  = vex*np.cos(btheta)+vey*np.sin(btheta)\n",
    "    vp     = -vex*np.sin(btheta)+vey*np.cos(btheta)\n",
    "    vperp  = np.sqrt(vp**2+vez**2)\n",
    "    \n",
    "    xe   = R.readprtl(dpath,'xe',ind)/R.readparam(dpath,'c_omp')\n",
    "    ishf,xshf,sh_speed = R.shfind(dpath,ind)\n",
    "    xL += xshf\n",
    "    xR += xshf\n",
    "    in_range = (xe>=xL) & (xe<=xR)\n",
    "    return vpara[in_range], vperp[in_range]"
   ]
  },
  {
   "cell_type": "code",
   "execution_count": 8,
   "metadata": {
    "collapsed": false
   },
   "outputs": [],
   "source": [
    "'''\n",
    "A test function\n",
    "'''\n",
    "def test():\n",
    "    '''\n",
    "    non-relativistic sda\n",
    "    '''\n",
    "    me     = 511\n",
    "    num    = 300\n",
    "    btheta = 70.*np.pi/180.\n",
    "    vsh_up = -0.032\n",
    "    r      =  2\n",
    "    Te     = 0.8/me\n",
    "    ePhi   = -3.5*me\n",
    "    kappa  = 10\n",
    "    E, fe, fk= nonrel_sda_spectrum(me,num,kappa, Te,btheta,vsh_up,r,ePhi)\n",
    "    plt.figure(1)\n",
    "    plt.loglog(E,fe,E,fk)\n",
    "    plt.axis([1,100,1e-8,1e2])\n",
    " \n",
    "    \n",
    "    '''\n",
    "    relativistic sda\n",
    "    '''\n",
    "    prtl_num  = 100000\n",
    "    delgam = 0.17\n",
    "    pdf_sz = 1000\n",
    "    vsh_up = 0.22\n",
    "    btheta = 70*np.pi/180.\n",
    "    ePhi   = 0.5\n",
    "    r      = 4\n",
    "    gamma_list, fe, fsda = rel_sda_spectrum(prtl_num,delgam,pdf_sz,vsh_up,btheta,ePhi,r)\n",
    "    plt.figure(2)\n",
    "    plt.loglog(gamma_list,fe,c='b',lw=1,label='simu')\n",
    "    plt.loglog(gamma_list,fsda,c='k',lw=1,label='sda')\n",
    "    return"
   ]
  },
  {
   "cell_type": "code",
   "execution_count": 9,
   "metadata": {
    "collapsed": true
   },
   "outputs": [],
   "source": [
    "def test1():\n",
    "    theta_b = 63*np.pi/180.\n",
    "    vsh_up  = 0.22\n",
    "    delgam = 0.17\n",
    "    mi = 100\n",
    "    Ms = 3\n",
    "    bpa0 = np.linspace(-1,1,100)\n",
    "    bpr0 = np.sqrt(1.-bpa0**2)\n",
    "    plt.plot(bpa0,bpr0,lw=2)\n",
    "    for i in range(3):\n",
    "        ePhi = 0.5/(10**i)\n",
    "        delgam = 0.17/(10**i)\n",
    "        bpa, bpr = SDA_reflection_curve1(delgam, mi, Ms, theta_b, ePhi, r=4, bpara_num=200)\n",
    "        plt.plot(bpa,bpr,lw=2)\n",
    "    return 0"
   ]
  },
  {
   "cell_type": "code",
   "execution_count": 21,
   "metadata": {
    "collapsed": false
   },
   "outputs": [],
   "source": [
    "def test2():\n",
    "    vsh_up  = 0.22\n",
    "    delgam = 0.17\n",
    "    mi = 100\n",
    "    Ms = 3\n",
    "    bpa0 = np.linspace(-1,1,100)\n",
    "    bpr0 = np.sqrt(1.-bpa0**2)\n",
    "    plt.plot(bpa0,bpr0,lw=2)\n",
    "    for i in range(3):\n",
    "        if i==0:\n",
    "            theta_b = 63*np.pi/180.\n",
    "            ePhi = 0.5\n",
    "            r = 4\n",
    "        elif i==1:\n",
    "            theta_b = 43*np.pi/180.\n",
    "            ePhi = 0.5\n",
    "            r = 4\n",
    "        elif i==2:\n",
    "            theta_b = 23*np.pi/180.\n",
    "            ePhi = 0.5\n",
    "            r =4\n",
    "        bpa, bpr = SDA_reflection_curve1(delgam, mi, Ms, theta_b, ePhi, r, bpara_num=200)\n",
    "        plt.plot(bpa,bpr,lw=2)\n",
    "    return 0"
   ]
  },
  {
   "cell_type": "code",
   "execution_count": 22,
   "metadata": {
    "collapsed": false
   },
   "outputs": [
    {
     "name": "stdout",
     "output_type": "stream",
     "text": [
      "beta_s 0.497437272239\n",
      "beta_s 0.308786016004\n",
      "beta_s 0.245334714929\n"
     ]
    },
    {
     "data": {
      "text/plain": [
       "0"
      ]
     },
     "execution_count": 22,
     "metadata": {},
     "output_type": "execute_result"
    },
    {
     "data": {
      "image/png": "[encoded data removed]",
      "text/plain": [
       "<matplotlib.figure.Figure at 0x2b9e0aca2a10>"
      ]
     },
     "metadata": {},
     "output_type": "display_data"
    }
   ],
   "source": [
    "test2()"
   ]
  },
  {
   "cell_type": "code",
   "execution_count": null,
   "metadata": {
    "collapsed": true
   },
   "outputs": [],
   "source": []
  }
 ],
 "metadata": {
  "kernelspec": {
   "display_name": "Python [Root]",
   "language": "python",
   "name": "Python [Root]"
  },
  "language_info": {
   "codemirror_mode": {
    "name": "ipython",
    "version": 2
   },
   "file_extension": ".py",
   "mimetype": "text/x-python",
   "name": "python",
   "nbconvert_exporter": "python",
   "pygments_lexer": "ipython2",
   "version": "2.7.12"
  }
 },
 "nbformat": 4,
 "nbformat_minor": 0
}

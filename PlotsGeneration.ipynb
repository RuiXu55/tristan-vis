{
 "cells": [
  {
   "cell_type": "code",
   "execution_count": 6,
   "metadata": {
    "collapsed": false
   },
   "outputs": [],
   "source": [
    "import os\n",
    "import sys\n",
    "import h5py\n",
    "import numpy as np\n",
    "import matplotlib as mpl\n",
    "path = '/tigress/ruix/vis/'\n",
    "os.chdir(path)\n",
    "import matplotlib.pyplot as plt\n",
    "plt.style.use('apw-notebook.mplstyle')\n",
    "%matplotlib inline\n",
    "%run LoadNotebook\n",
    "import DataProcess as R\n",
    "#import matplotlib.cm as cmaps\n",
    "#from  matplotlib.colors import LogNorm\n",
    "from ipywidgets import widgets,interact,fixed\n",
    "from IPython.display import display"
   ]
  },
  {
   "cell_type": "code",
   "execution_count": 7,
   "metadata": {
    "collapsed": false
   },
   "outputs": [],
   "source": [
    "'''\n",
    "This function plot electron/ion momtum and energy spectrum.\n",
    "'''\n",
    "def Plot_Spectrum(index, xL=0.,xR=1000,shock=1,frame=''):\n",
    "\n",
    "    #Dt = R.readparam('time',ind+1)-R.readparam('time',index)\n",
    "    mom,gamma,momedist,mompdist,edist,pdist = R.spect1d(index,xL,xR,shock,frame)\n",
    "    fig,ax = plt.subplots(2,sharex=True)\n",
    "\n",
    "    # electron/ion energy spectrum\n",
    "    #ax[0].loglog(gamma,edist,linewidth=2,linestyle='-',color=mpl.cm.autumn(i/ float(nsteps)))\n",
    "    ax[0].loglog(gamma,edist)\n",
    "    ax[0].loglog(gamma,pdist)\n",
    "    # electron/ion momentum spectrum\n",
    "    ax[1].loglog(mom,momedist)\n",
    "    ax[1].loglog(mom,mompdist)\n",
    "   \n",
    "    #ax[0].axis([1e-4,1e2,1e-6,1e0])\n",
    "    ax[0].set_ylabel(r'$E(dn/dE)/n$')\n",
    "    ax[0].set_xlabel(r'$\\gamma-1$')\n",
    "\n",
    "    ax[1].axis([1e-2,1e2,1e-6,1e0])\n",
    "    ax[1].set_ylabel(r'$p^4 f(p)$')\n",
    "    ax[1].set_xlabel(r'$\\gamma\\beta$')\n",
    "    plt.show()"
   ]
  },
  {
   "cell_type": "code",
   "execution_count": 8,
   "metadata": {
    "collapsed": true
   },
   "outputs": [],
   "source": [
    "'''\n",
    "Phase plot of ions and electrons\n",
    "'''\n",
    "def Plot_Phase(ind, sp, mom_dim, GammaBoost=0., pbins=200, xbins=200):\n",
    "    u = R.readprtl('u'+sp,ind)\n",
    "    v = R.readprtl('v'+sp,ind)\n",
    "    w = R.readprtl('w'+sp,ind)\n",
    "    x_values = R.readprtl('x'+sp,ind)/R.readparam('c_omp')\n",
    "    # x_min & x_max before boostin'\n",
    "    xmin = 0\n",
    "    xmax = R.readflds('bx',ind).shape[1]/R.readparam('c_omp')*R.readparam('istep')\n",
    "    # First calculate beta and gamma\n",
    "    if GammaBoost>=1:\n",
    "        betaBoost = np.sqrt(1.-1/GammaBoost**2)\n",
    "    elif GammaBoost >-1:\n",
    "        betaBoost = GammaBoost\n",
    "        GammaBoost = np.sqrt(1.-betaBoost**2)**(-1)\n",
    "    else:\n",
    "        betaBoost = -np.sqrt(1.-1/GammaBoost**2)\n",
    "        GammaBoost *= -1.\n",
    "\n",
    "    # Now calculate gamma of the particles in downstream restframe\n",
    "    gamma_ds = np.sqrt(u**2+v**2+w**2+1.)\n",
    "    # calculate the velocities from the momenta\n",
    "    vx = u/gamma_ds\n",
    "    vy = v/gamma_ds\n",
    "    vz = w/gamma_ds\n",
    "\n",
    "    # Now calulate the velocities in the boosted frames\n",
    "    tmp_helper = 1-vx*betaBoost\n",
    "    vx_prime = (vx-betaBoost)/tmp_helper\n",
    "    vy_prime = vy/GammaBoost/tmp_helper\n",
    "    vz_prime = vz/GammaBoost/tmp_helper\n",
    "\n",
    "    # Now calculate the LF in the boosted frames using rapidity\n",
    "    # Initial rapidity\n",
    "    rap_prtl = np.arccosh(gamma_ds)\n",
    "    rap_boost = np.arccosh(GammaBoost)\n",
    "\n",
    "    #v_tot_sq = vx_prime**2 + vy_prime**2 + vz_prime**2\n",
    "    #gamma_old_way = 1/np.sqrt(1-v_tot_sq)\n",
    "\n",
    "    gamma_prime = gamma_ds*GammaBoost-np.sign(u)*np.sign(betaBoost)*\\\n",
    "         np.sinh(rap_prtl)*np.sinh(rap_boost)/np.sqrt(1+(v/u)**2+(w/u)**2)\n",
    "\n",
    "    if mom_dim == 0:\n",
    "        y_values  = vx_prime*gamma_prime\n",
    "    if mom_dim == 1:\n",
    "        y_values  = vy_prime*gamma_prime\n",
    "    if mom_dim == 2:\n",
    "        y_values  = vz_prime*gamma_prime\n",
    "\n",
    "    # Some of the values are becoming NaN.\n",
    "    # ignore them, but I don't think this should be happening anymore....\n",
    "    outRange = np.isnan(y_values)\n",
    "\n",
    "    pmin = min(y_values)\n",
    "    pmax = max(y_values)\n",
    "    \n",
    "    hist2d = np.histogram2d(y_values[~outRange], x_values[~outRange],\n",
    "        bins = [pbins, xbins],range = [[pmin,pmax],[xmin,xmax]])\n",
    "    \n",
    "    plt.imshow(hist2d[0], interpolation='hermite', origin='low',aspect='auto',extent=[xmin, xmax, pmin, pmax])"
   ]
  },
  {
   "cell_type": "code",
   "execution_count": 9,
   "metadata": {
    "collapsed": false
   },
   "outputs": [],
   "source": [
    "def Plot_FFT(ind, param, xL=0, xR=1000, case=0):\n",
    "    fig,ax = plt.subplots(2,sharex= True)\n",
    "    k_axis, Bfft = R.fft_flds(ind, param, xL,xR,case)\n",
    "    ax[0].semilogx(k_axis,Bfft)\n",
    "    ax[0].set_ylabel(r'$\\delta B/B_0$')\n",
    "    print ('Maximum Wavelength=',2.*np.pi/np.abs(k_axis[np.argmax(Bfft)]))\n",
    "\n",
    "    k_axis, Chi = R.polarization(ind,xL,xR, case)\n",
    "    ax[1].semilogx(k_axis,Chi)\n",
    "    ax[1].set_xlabel(r'$k[c/\\omega_{pe}]$')\n",
    "    ax[1].set_ylabel(r'$\\chi$')\n",
    "    #ax[1].axvline(x=np.abs(k_axis[np.argmax(Bfft)]),color='r',linestyle='--',linewidth=2)\n",
    "    "
   ]
  },
  {
   "cell_type": "code",
   "execution_count": 10,
   "metadata": {
    "collapsed": true
   },
   "outputs": [],
   "source": [
    "def CreateMovie(plotter, fname, numberOfFrames, Interval=1, StartInd=1, fps=5):\n",
    "    for i in range(numberOfFrames):\n",
    "        print('Movie making index: i=',i)\n",
    "        plotter(i*Interval+StartInd)\n",
    "        plt.savefig(fname+str(i).zfill(3)+'.png',format='png')\n",
    "        plt.clf()\n",
    "    #os.system(\"rm movie.mp4\")\n",
    "    os.system(\"ffmpeg -framerate \"+str(fps)+\" -i \"+fname+\"%03d.png movie.mp4\")\n",
    "    os.system(\"rm *.png\")"
   ]
  },
  {
   "cell_type": "code",
   "execution_count": 11,
   "metadata": {
    "collapsed": false
   },
   "outputs": [
    {
     "data": {
      "image/png": "[encoded data removed]",
      "text/plain": [
       "<matplotlib.figure.Figure at 0x2b37ea797d90>"
      ]
     },
     "metadata": {},
     "output_type": "display_data"
    },
    {
     "data": {
      "text/plain": [
       "<function __main__.Plot_Spectrum>"
      ]
     },
     "execution_count": 11,
     "metadata": {},
     "output_type": "execute_result"
    }
   ],
   "source": [
    "# switch to data directory\n",
    "path = '/tigress/ruix/simu/1dang70mass100new/output/'\n",
    "os.chdir(path)\n",
    "\n",
    "\n",
    "# Interactive analysis of Spectrum\n",
    "#interact(P.Plot_Spectrum, ind=widgets.IntSlider(min=1,max=100,step=1,value=10))\n",
    "interact(Plot_Spectrum, index=widgets.IntSlider(min=1,max=200,step=2,value=10,continuous_update=False),\\\n",
    "         xL=widgets.FloatSlider(min=-5000,max=5000,step=100,value=0,continuous_update=False),\\\n",
    "         xR=widgets.FloatSlider(min=-5000,max=5000,step=100,value=1000,continuous_update=False),\\\n",
    "         shock=widgets.IntSlider(min=0,max=1,step=1,continous_update=False), frame=fixed(''))\n"
   ]
  },
  {
   "cell_type": "code",
   "execution_count": 12,
   "metadata": {
    "collapsed": false
   },
   "outputs": [
    {
     "data": {
      "image/png": "[encoded data removed]",
      "text/plain": [
       "<matplotlib.figure.Figure at 0x2b37eabc52d0>"
      ]
     },
     "metadata": {},
     "output_type": "display_data"
    }
   ],
   "source": [
    "# calculate e/i pressure\n",
    "# switch to data directory\n",
    "path = '/tigress/ruix/simu/1dang70mass100new/output/'\n",
    "os.chdir(path)\n",
    "ind = 500\n",
    "xbins= 100\n",
    "xL = 0\n",
    "xR = 1000\n",
    "#Tmpe = R.prtl_tmp_rel(ind,'e',xbins,xL=0, xR=1000,shock=1,frame='upstream')\n",
    "#Tmpe1 = R.prtl_tmp(ind,'e',xbins,direct='prl')\n",
    "Tmpi = R.prtl_tmp_rel(ind,'i',xbins,xL,xR)\n",
    "Tmpe = R.prtl_tmp_rel(ind,'e',xbins,xL,xR)\n",
    "\n",
    "Tmpe1 = R.prtl_tmp(ind,'e',xbins,direct='x')\n",
    "Tmpi1 = R.prtl_tmp(ind,'i',xbins,direct='x')\n",
    "x_values = np.linspace(xL,xR,xbins)\n",
    "#plt.plot(x_values, Tmpe,'k-',label='e')\n",
    "#plt.plot(x_values, Tmpe1,'r-',label='e')\n",
    "plt.plot(x_values, Tmpi,'b-',label='i')\n",
    "plt.plot(x_values, Tmpe,'r-',label='e')\n",
    "#plt.plot(x_values, Tmpe1,'k-',label='e1')\n",
    "plt.plot(x_values, Tmpi1,'g-',label='i1')\n",
    "plt.ylim([0,0.5])\n",
    "#plt.plot(x_values, Tiy,'r--',label='i2')\n",
    "plt.legend()\n",
    "plt.ylabel(r'$\\rm{kT/m_ec^2}$')\n",
    "plt.show()"
   ]
  },
  {
   "cell_type": "code",
   "execution_count": 13,
   "metadata": {
    "collapsed": false
   },
   "outputs": [
    {
     "data": {
      "image/png": "[encoded data removed]",
      "text/plain": [
       "<matplotlib.figure.Figure at 0x2b37ed9da090>"
      ]
     },
     "metadata": {},
     "output_type": "display_data"
    }
   ],
   "source": [
    "# switch to data directory\n",
    "path = '/tigress/ruix/simu/1dang70mass100new/output/'\n",
    "os.chdir(path)\n",
    "ind =100\n",
    "sp = 'e'\n",
    "u  = R.readprtl('u'+sp,ind)\n",
    "v  = R.readprtl('v'+sp,ind)\n",
    "w  = R.readprtl('w'+sp,ind)\n",
    "plt.hist2d(u, v, bins=400) #, norm=LogNorm())\n",
    "#plt.ylim([-5,5])\n",
    "#plt.xlim([-5,5])\n",
    "plt.colorbar()\n",
    "plt.show()"
   ]
  },
  {
   "cell_type": "code",
   "execution_count": null,
   "metadata": {
    "collapsed": false
   },
   "outputs": [
    {
     "name": "stdout",
     "output_type": "stream",
     "text": [
      "('zeroth momentum:', 0.96747222033075353)\n",
      "('zeroth momentum:', 0.96721261966115779)\n",
      "('zeroth momentum:', 0.96442195231292238)\n",
      "('zeroth momentum:', 0.96410663189028301)\n",
      "('zeroth momentum:', 0.96313598665236488)\n",
      "('zeroth momentum:', 0.96278946385417985)\n",
      "('zeroth momentum:', 0.96239965092770985)\n",
      "('zeroth momentum:', 0.9620348535079899)\n",
      "('zeroth momentum:', 0.96172248156582973)\n",
      "('zeroth momentum:', 0.96134741120865397)\n",
      "('zeroth momentum:', 0.96174251968917501)\n",
      "('zeroth momentum:', 0.96136003850065721)\n",
      "('zeroth momentum:', 0.96127370335073625)\n",
      "('zeroth momentum:', 0.96088266177729553)\n",
      "('zeroth momentum:', 0.96121757808704322)\n",
      "('zeroth momentum:', 0.96082388775995475)\n",
      "('zeroth momentum:', 0.96094299108922121)\n",
      "('zeroth momentum:', 0.96053839992958634)\n",
      "('zeroth momentum:', 0.96080950866927339)\n",
      "('zeroth momentum:', 0.9604074635975326)\n",
      "('zeroth momentum:', 0.96080651888056157)\n",
      "('zeroth momentum:', 0.9604009084896139)\n",
      "('zeroth momentum:', 0.96062979150242434)\n",
      "('zeroth momentum:', 0.96022123733320941)\n",
      "('zeroth momentum:', 0.96029223223531812)\n",
      "('zeroth momentum:', 0.9598670663403096)\n",
      "('zeroth momentum:', 0.95999596689218825)\n",
      "('zeroth momentum:', 0.95956538010293702)\n",
      "('zeroth momentum:', 0.95996178616260752)\n",
      "('zeroth momentum:', 0.95953267441974122)\n",
      "('zeroth momentum:', 0.95984767149234052)\n",
      "('zeroth momentum:', 0.95941497115874941)\n",
      "('zeroth momentum:', 0.9598824272183436)\n",
      "('zeroth momentum:', 0.9594487702835045)\n",
      "('zeroth momentum:', 0.95947258350209841)\n",
      "('zeroth momentum:', 0.95903016489132809)\n",
      "('zeroth momentum:', 0.95934905396969072)\n",
      "('zeroth momentum:', 0.9589068521370222)\n",
      "('zeroth momentum:', 0.9593063757128385)\n",
      "('zeroth momentum:', 0.95885483432044805)\n",
      "('zeroth momentum:', 0.95905944951142463)\n",
      "('zeroth momentum:', 0.95860479642231067)\n",
      "('zeroth momentum:', 0.95885878097210508)\n",
      "('zeroth momentum:', 0.95840017663494592)\n",
      "('zeroth momentum:', 0.95905264840320781)\n",
      "('zeroth momentum:', 0.9585974753370553)\n",
      "('zeroth momentum:', 0.95861268834640023)\n",
      "('zeroth momentum:', 0.95814926757353092)\n",
      "('zeroth momentum:', 0.95862935440986075)\n",
      "('zeroth momentum:', 0.95816375256806496)\n",
      "('zeroth momentum:', 0.95833748574425592)\n",
      "('zeroth momentum:', 0.95786865533763388)\n",
      "('zeroth momentum:', 0.95821729234380859)\n",
      "('zeroth momentum:', 0.95773834819348957)\n",
      "('zeroth momentum:', 0.95766495509163763)\n",
      "('zeroth momentum:', 0.9571733000767042)\n",
      "('zeroth momentum:', 0.95741739215564803)\n",
      "('zeroth momentum:', 0.95691798945983308)\n",
      "('zeroth momentum:', 0.95757622840254741)\n",
      "('zeroth momentum:', 0.95708279593756462)\n",
      "('zeroth momentum:', 0.95750543666630639)\n",
      "('zeroth momentum:', 0.95700645420620556)\n",
      "('zeroth momentum:', 0.95735809137411609)\n",
      "('zeroth momentum:', 0.95685553658103428)\n",
      "('zeroth momentum:', 0.95713991333129189)\n",
      "('zeroth momentum:', 0.9566248616905525)\n",
      "('zeroth momentum:', 0.95738243569665982)\n",
      "('zeroth momentum:', 0.95687791358746044)\n",
      "('zeroth momentum:', 0.95706440467673104)\n",
      "('zeroth momentum:', 0.95655574266801635)\n",
      "('zeroth momentum:', 0.957193883656005)\n",
      "('zeroth momentum:', 0.9566779933218984)\n",
      "('zeroth momentum:', 0.95735887061233016)\n",
      "('zeroth momentum:', 0.95684423934723806)\n",
      "('zeroth momentum:', 0.95704138961608753)\n",
      "('zeroth momentum:', 0.95652464874780607)\n",
      "('zeroth momentum:', 0.95719847359751875)\n",
      "('zeroth momentum:', 0.95668469591133609)\n",
      "('zeroth momentum:', 0.95710048466626552)\n",
      "('zeroth momentum:', 0.95656963216533097)\n",
      "('zeroth momentum:', 0.95691730262102837)\n",
      "('zeroth momentum:', 0.95639517573424071)\n",
      "('zeroth momentum:', 0.95688798589790858)\n",
      "('zeroth momentum:', 0.95635558890870431)\n",
      "('zeroth momentum:', 0.95671298632216117)\n",
      "('zeroth momentum:', 0.95617000580271228)\n",
      "('zeroth momentum:', 0.95669172607113406)\n",
      "('zeroth momentum:', 0.95615132917901113)\n",
      "('zeroth momentum:', 0.95683076879997719)\n",
      "('zeroth momentum:', 0.95629623534861896)\n",
      "('zeroth momentum:', 0.95654063911331977)\n",
      "('zeroth momentum:', 0.95599489444745989)\n",
      "('zeroth momentum:', 0.95653351120272756)\n",
      "('zeroth momentum:', 0.95597622226912404)\n",
      "('zeroth momentum:', 0.95635850761207186)\n",
      "('zeroth momentum:', 0.95579855214212139)\n",
      "('zeroth momentum:', 0.95606510899292463)\n",
      "('zeroth momentum:', 0.95549601422610531)\n",
      "('zeroth momentum:', 0.95615793122012382)\n",
      "('zeroth momentum:', 0.95559001811233168)\n",
      "('zeroth momentum:', 0.95606378308266826)\n",
      "('zeroth momentum:', 0.95549373746173838)\n",
      "('zeroth momentum:', 0.95593728956754853)\n",
      "('zeroth momentum:', 0.95536461041043808)\n",
      "('zeroth momentum:', 0.95569715548083212)\n",
      "('zeroth momentum:', 0.95509835928747289)\n",
      "('zeroth momentum:', 0.95547258611507635)\n",
      "('zeroth momentum:', 0.95488277551044431)\n",
      "('zeroth momentum:', 0.95529713714358566)\n",
      "('zeroth momentum:', 0.95469023884013049)\n",
      "('zeroth momentum:', 0.95516535191188079)\n",
      "('zeroth momentum:', 0.95455009664602919)\n",
      "('zeroth momentum:', 0.95501689011577118)\n",
      "('zeroth momentum:', 0.95438238386891994)\n",
      "('zeroth momentum:', 0.95498416525453778)\n",
      "('zeroth momentum:', 0.95433701298523543)\n",
      "('zeroth momentum:', 0.95485396324464045)\n",
      "('zeroth momentum:', 0.9541946109652949)\n",
      "('zeroth momentum:', 0.95474353356253294)\n",
      "('zeroth momentum:', 0.95406459629598173)\n",
      "('zeroth momentum:', 0.95482789593463835)\n",
      "('zeroth momentum:', 0.95413195605490897)\n",
      "('zeroth momentum:', 0.95468591441432504)\n",
      "('zeroth momentum:', 0.95398474342169526)\n",
      "('zeroth momentum:', 0.95458468715435207)\n",
      "('zeroth momentum:', 0.95386795422202642)\n",
      "('zeroth momentum:', 0.95455218444036749)\n",
      "('zeroth momentum:', 0.95382432145860707)\n",
      "('zeroth momentum:', 0.95448444166971491)\n",
      "('zeroth momentum:', 0.95374679624584213)\n",
      "('zeroth momentum:', 0.95436063740455357)\n",
      "('zeroth momentum:', 0.95361722025098428)\n",
      "('zeroth momentum:', 0.95424188911846963)\n",
      "('zeroth momentum:', 0.95348340990427671)\n",
      "('zeroth momentum:', 0.95423705250617541)\n",
      "('zeroth momentum:', 0.95347013813694859)\n",
      "('zeroth momentum:', 0.95422660609325827)\n",
      "('zeroth momentum:', 0.95344942035372404)\n",
      "('zeroth momentum:', 0.95416815464558857)\n",
      "('zeroth momentum:', 0.95338890557244493)\n",
      "('zeroth momentum:', 0.95406038407773375)\n",
      "('zeroth momentum:', 0.9532623807911903)\n",
      "('zeroth momentum:', 0.95397838375376454)\n",
      "('zeroth momentum:', 0.95318608992145126)\n",
      "('zeroth momentum:', 0.95404400086072039)\n",
      "('zeroth momentum:', 0.95325645979041362)\n",
      "('zeroth momentum:', 0.95398187496626929)\n",
      "('zeroth momentum:', 0.95317658329867505)\n",
      "('zeroth momentum:', 0.95392852584390397)\n",
      "('zeroth momentum:', 0.95311966917129876)\n",
      "('zeroth momentum:', 0.95382694992542871)\n",
      "('zeroth momentum:', 0.9530184188840477)\n",
      "('zeroth momentum:', 0.95375828311177691)\n",
      "('zeroth momentum:', 0.95294134777575912)\n",
      "('zeroth momentum:', 0.95373461657508285)\n",
      "('zeroth momentum:', 0.95288585185184849)\n",
      "('zeroth momentum:', 0.95368608134361921)\n",
      "('zeroth momentum:', 0.95283769181287103)\n",
      "('zeroth momentum:', 0.95362451207372345)\n",
      "('zeroth momentum:', 0.95277691565815825)\n",
      "('zeroth momentum:', 0.95354602945364564)\n",
      "('zeroth momentum:', 0.95270151201579467)\n",
      "('zeroth momentum:', 0.95347050674728562)\n",
      "('zeroth momentum:', 0.95261510157623852)\n",
      "('zeroth momentum:', 0.95343342270380893)\n",
      "('zeroth momentum:', 0.95257988964086493)\n"
     ]
    }
   ],
   "source": [
    "import os\n",
    "path = '/tigress/ruix/simu/1dang70mass100new/output/'\n",
    "os.chdir(path)\n",
    "xbins =100\n",
    "xL = 0\n",
    "xR = 1000\n",
    "num = 99\n",
    "Tmpe = np.zeros(num)\n",
    "Tmpi = np.zeros(num)\n",
    "time = np.zeros(num)\n",
    "for ind in range(0,num):\n",
    "    Tmpe[ind] = R.prtl_tmp_geneal_rel(ind*8+1,'e',xL, xR,shock=1,frame='rest')\n",
    "    Tmpi[ind] = R.prtl_tmp_geneal_rel(ind*8+1,'i',xL, xR,shock=1,frame='rest')\n",
    "    time[ind] = R.readparam('time',ind*8+1)\n",
    "plt.plot(time, Tmpe/Tmpi)\n",
    "plt.xlabel('Time$[\\omega_{pe}^{-1}]$')\n",
    "plt.ylabel('$T_e/T_i$')\n",
    "plt.ticklabel_format(style='sci', axis='x', scilimits=(0,0))\n",
    "plt.show()"
   ]
  },
  {
   "cell_type": "code",
   "execution_count": 24,
   "metadata": {
    "collapsed": false
   },
   "outputs": [
    {
     "name": "stdout",
     "output_type": "stream",
     "text": [
      "('zeroth momentum:', 0.96599131630271606)\n",
      "0.186617901299 vthe= 0.43199294126\n",
      "('zeroth momentum:', 0.96570826215121564)\n",
      "0.820674950018 vthi 0.0905911115959\n"
     ]
    }
   ],
   "source": [
    "import os\n",
    "path = '/tigress/ruix/simu/1dang70mass100new/output/'\n",
    "os.chdir(path)\n",
    "ind = 4\n",
    "xbins =100\n",
    "xL = 0\n",
    "xR = 1000\n",
    "Tmp = R.prtl_tmp_geneal_rel(ind,'e',xL, xR,shock=1,frame='')\n",
    "print Tmp, 'vthe=',np.sqrt(Tmp)\n",
    "Tmp = R.prtl_tmp_geneal_rel(ind,'i',xL, xR,shock=1,frame='')\n",
    "print Tmp, 'vthi', np.sqrt(Tmp/100.)\n",
    "\n",
    "#PMag = np.mean(R.readparam('bx')+R.readparam('by')+R.readparam('bz'))\n"
   ]
  },
  {
   "cell_type": "code",
   "execution_count": null,
   "metadata": {
    "collapsed": true
   },
   "outputs": [],
   "source": []
  },
  {
   "cell_type": "code",
   "execution_count": null,
   "metadata": {
    "collapsed": true
   },
   "outputs": [],
   "source": []
  }
 ],
 "metadata": {
  "kernelspec": {
   "display_name": "Python [Root]",
   "language": "python",
   "name": "Python [Root]"
  },
  "language_info": {
   "codemirror_mode": {
    "name": "ipython",
    "version": 2
   },
   "file_extension": ".py",
   "mimetype": "text/x-python",
   "name": "python",
   "nbconvert_exporter": "python",
   "pygments_lexer": "ipython2",
   "version": "2.7.12"
  }
 },
 "nbformat": 4,
 "nbformat_minor": 0
}

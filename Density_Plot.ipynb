{
 "cells": [
  {
   "cell_type": "code",
   "execution_count": 1,
   "metadata": {
    "collapsed": false
   },
   "outputs": [
    {
     "name": "stdout",
     "output_type": "stream",
     "text": [
      "importing Jupyter notebook from DataProcess.ipynb\n"
     ]
    }
   ],
   "source": [
    "import h5py\n",
    "%run LoadNotebook\n",
    "import numpy as np\n",
    "import DataProcess as R\n",
    "import matplotlib.pyplot as plt\n",
    "%matplotlib inline"
   ]
  },
  {
   "cell_type": "code",
   "execution_count": 2,
   "metadata": {
    "collapsed": false
   },
   "outputs": [],
   "source": [
    "def Dens1d(path,ind):\n",
    "    dens  = R.readflds(path,'dens',ind)\n",
    "    xaxis = dens.shape[1]/R.readparam(path,'c_omp')*R.readparam(path,'istep')\n",
    "    density = dens[dens.shape[0]/2,:]\n",
    "    x = np.linspace(0,xaxis,dens.shape[1])\n",
    "    ishf,xshf,sh= R.shfind(path,ind)\n",
    "    plt.plot(x,density/R.readparam(path,'ppc0'),lw=1.5)    \n",
    "    plt.xlabel(r'x[$c/\\omega_{pe}$]')\n",
    "    plt.ylabel(r'$n/n_0$')\n",
    "    plt.ylim([0,4])\n",
    "    "
   ]
  },
  {
   "cell_type": "code",
   "execution_count": 3,
   "metadata": {
    "collapsed": true
   },
   "outputs": [],
   "source": [
    "def CreateMovie(plotter, path, fname, numberOfFrames, Interval=1, StartInd=1, fps=5):\n",
    "    for i in range(numberOfFrames):\n",
    "        print('Movie making index: i=',i)\n",
    "        plotter(path,i*Interval+StartInd)\n",
    "        plt.savefig(fname+str(i).zfill(3)+'.png',format='png')\n",
    "        plt.clf()\n",
    "    os.system(\"rm ../\" + fname +\".mp4\")\n",
    "    os.system(\"ffmpeg -framerate \"+str(fps)+\" -i \"+fname+\"%03d.png ../\"+fname+\".mp4\")\n",
    "    os.system(\"rm *.png\")"
   ]
  },
  {
   "cell_type": "code",
   "execution_count": 5,
   "metadata": {
    "collapsed": false
   },
   "outputs": [
    {
     "name": "stdout",
     "output_type": "stream",
     "text": [
      "('Movie making index: i=', 0)\n",
      "('Movie making index: i=', 1)\n"
     ]
    },
    {
     "data": {
      "text/plain": [
       "<matplotlib.figure.Figure at 0x2b6b20370f90>"
      ]
     },
     "metadata": {},
     "output_type": "display_data"
    }
   ],
   "source": [
    "fname = 'movie'\n",
    "path = '/tigress/ruix/new_simu/1dang70mass100_up/output/'\n",
    "CreateMovie(Dens1d, path, fname, numberOfFrames=2, Interval=2, StartInd=1, fps=5)"
   ]
  },
  {
   "cell_type": "code",
   "execution_count": null,
   "metadata": {
    "collapsed": false
   },
   "outputs": [],
   "source": []
  }
 ],
 "metadata": {
  "kernelspec": {
   "display_name": "Python [Root]",
   "language": "python",
   "name": "Python [Root]"
  },
  "language_info": {
   "codemirror_mode": {
    "name": "ipython",
    "version": 2
   },
   "file_extension": ".py",
   "mimetype": "text/x-python",
   "name": "python",
   "nbconvert_exporter": "python",
   "pygments_lexer": "ipython2",
   "version": "2.7.12"
  }
 },
 "nbformat": 4,
 "nbformat_minor": 0
}

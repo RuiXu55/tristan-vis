{
 "cells": [
  {
   "cell_type": "code",
   "execution_count": 1,
   "metadata": {
    "collapsed": false
   },
   "outputs": [],
   "source": [
    "import numpy as np\n",
    "import random\n",
    "import time"
   ]
  },
  {
   "cell_type": "code",
   "execution_count": 2,
   "metadata": {
    "collapsed": false
   },
   "outputs": [],
   "source": [
    "'''\n",
    "tables are integrated PDFs for initialization of maxwellians for electrons and ions\n",
    "delgam in the input file sets the temperature in delta gamma, here it is converted \n",
    "between species by multiplying by mass.\n",
    "!! gamma_table is gamma -1 table\n",
    "'''\n",
    "def init_maxw_table(delgam,pdf_sz):\n",
    "    maxg        = (delgam)*20+1.\n",
    "    gamma_table = np.linspace(0,0,pdf_sz)\n",
    "    pdf_table   = np.linspace(0,0,pdf_sz)\n",
    "    for i in range(pdf_sz):\n",
    "        gamma_table[i]=(maxg-1.)/(pdf_sz-1)*i\n",
    "    # a safer way of writing gamma*sqrt(gamma^2-1)*exp(-(gamma-1)/delgam)\n",
    "    func=(gamma_table+1.)*np.sqrt(gamma_table*(gamma_table+2.))*np.exp(-(gamma_table)/delgam)  \n",
    "    pdf_table[0]=0.\n",
    "    for i in range(1,pdf_sz):\n",
    "        pdf_table[i]=sum(func[0:i+1])\n",
    "    #normalize pdf_table         \n",
    "    pdf_table=pdf_table/pdf_table[pdf_sz-1]\n",
    "    return gamma_table,pdf_table"
   ]
  },
  {
   "cell_type": "code",
   "execution_count": 3,
   "metadata": {
    "collapsed": true
   },
   "outputs": [],
   "source": [
    "# Maxwell distribution for the particles\n",
    "def init_rel_maxwell(gamma0,pdf_sz,gamma_table,pdf_table):\n",
    "    gamma0mag = np.abs(gamma0)\n",
    "    beta_drift = np.sign(gamma0)*np.sqrt(1.-1./max(abs(gamma0),1.)**2)\n",
    "    \n",
    "    random.seed(time.time())    \n",
    "    rannum = random.uniform(0,1)\n",
    "    if (rannum==1.):\n",
    "        rannum = random.uniform(0,1)\n",
    "    gam=0. #gam = gamma-1., only kinetic energy to avoid underflows\n",
    "    #choose gamma from the table\n",
    "    for i in range(pdf_sz):               \n",
    "        if(i==pdf_sz-1):\n",
    "            gam=gamma_table[pdf_sz-1]\n",
    "        if(rannum > pdf_table[i] and rannum < pdf_table[i+1]):                      \n",
    "            gam=gamma_table[i]+(gamma_table[i+1]-gamma_table[i]) \\\n",
    "            /(pdf_table[i+1]-pdf_table[i])*(rannum-pdf_table[i])\n",
    "            break\n",
    "    \n",
    "    pcosth = 2*random.uniform(0,1)-1\n",
    "    pphi   = random.uniform(0,1)*2*np.pi\n",
    "    psinth = np.sqrt(1-pcosth**2)   \n",
    "    \n",
    "    # v0t = beta\n",
    "    v0t = np.sqrt((gam)*(gam+2.))/(1.+gam)     \n",
    "    ut1 = v0t*psinth*np.cos(pphi)\n",
    "    vt1 = v0t*psinth*np.sin(pphi)\n",
    "    wt1 = v0t*pcosth\n",
    "    \n",
    "    # aka Zenitani 2015, u = gam*v, including c factor\n",
    "    ptx = (1.+gam)*ut1\n",
    "    pty = (1.+gam)*vt1\n",
    "    ptz = (1.+gam)*wt1\n",
    "    # flipping method aka Zenitani 2015, TABLE II\n",
    "    X7  = random.uniform(0,1)\n",
    "    if (-beta_drift*ut1>X7):\n",
    "        ptx = -ptx\n",
    "    # particles will have average velocity beta0 (with sign)    \n",
    "    px1 = (ptx+beta_drift*(gam+1.))*gamma0mag #this will include the sign of gamma0\n",
    "    py1 = pty\n",
    "    pz1 = ptz\n",
    "    \n",
    "    gam1=np.sqrt(1+px1**2+py1**2+pz1**2)\n",
    "\n",
    "    u=px1/gam1\n",
    "    v=py1/gam1\n",
    "    w=pz1/gam1\n",
    "    return gam1,u,v,w"
   ]
  },
  {
   "cell_type": "code",
   "execution_count": 4,
   "metadata": {
    "collapsed": true
   },
   "outputs": [],
   "source": [
    "# delgam = k T/m c^2\n",
    "def generate_maxwell_dist(num,delgam,pdf_sz,btheta,outform):\n",
    "    gamma_table,pdf_table = init_maxw_table(delgam,pdf_sz)\n",
    "    ux  = np.empty(num) # beta nor gamma*beta\n",
    "    uy  = np.empty(num)\n",
    "    uz  = np.empty(num)\n",
    "    gam0= np.empty(num)\n",
    "    for i in range(num):\n",
    "        gam0[i],ux[i],uy[i],uz[i] = init_rel_maxwell(1.,pdf_sz,gamma_table,pdf_table)\n",
    "    if (outform=='xyz'):\n",
    "        return gam0, ux, uy, uz\n",
    "    elif(outform=='polar'):\n",
    "        btheta = 70*np.pi/180.\n",
    "        bpa = ux*np.cos(btheta) +  uy*np.sin(btheta)\n",
    "        u0  = -ux*np.sin(btheta) + uy*np.cos(btheta)\n",
    "        bpr = np.sqrt(u0**2+uz**2)\n",
    "        return gam0,bpa,bpr\n",
    "    else:\n",
    "        print ('select right outform: xyz or polar(|| and perp) \\n')\n",
    "        return 0"
   ]
  },
  {
   "cell_type": "code",
   "execution_count": 3,
   "metadata": {
    "collapsed": true
   },
   "outputs": [],
   "source": [
    "def prtl_distribution(gam1,gambins,gammin=-4,gammax=1):    \n",
    "    gamma_list  = np.logspace(gammin,gammax,gambins) # gamma-1\n",
    "    fe = np.empty(len(gamma_list))   \n",
    "    for k in range(len(fe)):\n",
    "        if k==0:\n",
    "            fe[k] = sum(gam1<gamma_list[0]+1)/len(gam1)\n",
    "        ar = (gam1>gamma_list[k-1]+1) & (gam1<gamma_list[k]+1)\n",
    "        fe[k] = float(sum(ar))/len(gam1)\n",
    "    return gamma_list, fe "
   ]
  },
  {
   "cell_type": "code",
   "execution_count": null,
   "metadata": {
    "collapsed": true
   },
   "outputs": [],
   "source": []
  }
 ],
 "metadata": {
  "kernelspec": {
   "display_name": "Python [Root]",
   "language": "python",
   "name": "Python [Root]"
  },
  "language_info": {
   "codemirror_mode": {
    "name": "ipython",
    "version": 2
   },
   "file_extension": ".py",
   "mimetype": "text/x-python",
   "name": "python",
   "nbconvert_exporter": "python",
   "pygments_lexer": "ipython2",
   "version": "2.7.12"
  }
 },
 "nbformat": 4,
 "nbformat_minor": 0
}

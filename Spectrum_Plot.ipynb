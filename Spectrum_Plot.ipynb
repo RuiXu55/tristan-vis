{
 "cells": [
  {
   "cell_type": "code",
   "execution_count": 2,
   "metadata": {
    "collapsed": false
   },
   "outputs": [
    {
     "name": "stdout",
     "output_type": "stream",
     "text": [
      "importing Jupyter notebook from DataProcess.ipynb\n"
     ]
    }
   ],
   "source": [
    "import numpy as np\n",
    "%run LoadNotebook\n",
    "import DataProcess as R\n",
    "import matplotlib.pyplot as plt\n",
    "%matplotlib inline"
   ]
  },
  {
   "cell_type": "code",
   "execution_count": 4,
   "metadata": {
    "collapsed": false
   },
   "outputs": [],
   "source": [
    "def Plot_Spectrum(dpath,index, sp, xL,xR,GammaMin,GammaMax,shock=1,frame=''):\n",
    "\n",
    "    #Dt = R.readparam('time',ind+1)-R.readparam('time',index)\n",
    "    mom,gamma,momedist,mompdist,edist,pdist = R.spect1d(dpath,index,xL,xR,shock,frame)\n",
    "    mom,dat = R.power_law_fit(dpath,index,sp, xL,xR,GammaMin,GammaMax)\n",
    "    fig,ax = plt.subplots(2,sharex=False)\n",
    "\n",
    "    # electron/ion energy spectrum\n",
    "    #ax[0].loglog(gamma,edist,linewidth=2,linestyle='-',color=mpl.cm.autumn(i/ float(nsteps)))\n",
    "    ax[0].loglog(gamma,edist)\n",
    "    ax[0].loglog(gamma,pdist)\n",
    "    # electron/ion momentum spectrum\n",
    "    ax[1].loglog(mom,momedist)\n",
    "    ax[1].loglog(mom,mompdist)\n",
    "    \n",
    "    DelGam = 0.0017\n",
    "    #mom,fmom = R.SetT(sp, DelGam, index, spect_type=1)\n",
    "    mass = R.readparam(dpath,'m'+sp)\n",
    "    mom,fmom = R.SetT(dpath,mass, DelGam, index, spect_type='energy',rangex=-3,rangey=3,num=200)\n",
    "    ax[1].loglog(mom,dat)\n",
    "\n",
    "    ax[0].set_ylabel(r'$E(dn/dE)/n$')\n",
    "    ax[0].set_xlabel(r'$\\gamma-1$')\n",
    "    ax[1].set_ylabel(r'$p^4 f(p)$')\n",
    "    ax[1].set_xlabel(r'$\\gamma\\beta$')\n",
    "\n",
    "    ax[0].axis([1e-3,1e2,1e-4,1e-1])\n",
    "    ax[1].axis([1e-2,1e2,1e-6,1e0])\n",
    "    #plt.show()\n",
    "    #Plot_Spectrum(dpath,index=50,sp='e', xL=100,xR=200,GammaMin=2,GammaMax=15,shock=1,frame='')"
   ]
  },
  {
   "cell_type": "code",
   "execution_count": null,
   "metadata": {
    "collapsed": true
   },
   "outputs": [],
   "source": []
  }
 ],
 "metadata": {
  "kernelspec": {
   "display_name": "Python [Root]",
   "language": "python",
   "name": "Python [Root]"
  },
  "language_info": {
   "codemirror_mode": {
    "name": "ipython",
    "version": 2
   },
   "file_extension": ".py",
   "mimetype": "text/x-python",
   "name": "python",
   "nbconvert_exporter": "python",
   "pygments_lexer": "ipython2",
   "version": "2.7.12"
  }
 },
 "nbformat": 4,
 "nbformat_minor": 0
}

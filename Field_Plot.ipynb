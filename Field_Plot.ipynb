{
 "cells": [
  {
   "cell_type": "markdown",
   "metadata": {},
   "source": [
    "### Fields plot functions"
   ]
  },
  {
   "cell_type": "code",
   "execution_count": 1,
   "metadata": {
    "collapsed": false
   },
   "outputs": [
    {
     "name": "stdout",
     "output_type": "stream",
     "text": [
      "importing Jupyter notebook from DataProcess.ipynb\n"
     ]
    }
   ],
   "source": [
    "import h5py\n",
    "%run LoadNotebook\n",
    "import numpy as np\n",
    "import DataProcess as R\n",
    "import matplotlib.pyplot as plt\n",
    "%matplotlib inline"
   ]
  },
  {
   "cell_type": "code",
   "execution_count": 2,
   "metadata": {
    "collapsed": false
   },
   "outputs": [],
   "source": [
    "def Flds1d(path,param,xL,xR,ind,direction='x'):\n",
    "    flds = R.readflds(path,param,ind)\n",
    "    if direction=='x':\n",
    "        flds1d = flds[flds.shape[0]/2,:]\n",
    "    else:\n",
    "        print ('further implement needed!\\n')\n",
    "    _,xshf,_  = R.shfind(path,ind)\n",
    "    xL0 = int((xL+xshf)*R.readparam(path,'c_omp',ind)/R.readparam(path,'istep',ind))\n",
    "    xR0 = int((xR+xshf)*R.readparam(path,'c_omp',ind)/R.readparam(path,'istep',ind))\n",
    "    xval = np.linspace(xL,xR,len(flds1d[xL0:xR0]))\n",
    "    \n",
    "    return xval,flds1d[xL0:xR0]/R.readparam(path,'b0',ind)\n",
    "    "
   ]
  }
 ],
 "metadata": {
  "kernelspec": {
   "display_name": "Python [Root]",
   "language": "python",
   "name": "Python [Root]"
  },
  "language_info": {
   "codemirror_mode": {
    "name": "ipython",
    "version": 2
   },
   "file_extension": ".py",
   "mimetype": "text/x-python",
   "name": "python",
   "nbconvert_exporter": "python",
   "pygments_lexer": "ipython2",
   "version": "2.7.12"
  }
 },
 "nbformat": 4,
 "nbformat_minor": 0
}

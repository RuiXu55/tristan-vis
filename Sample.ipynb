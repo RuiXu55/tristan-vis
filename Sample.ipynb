{
 "cells": [
  {
   "cell_type": "code",
   "execution_count": 1,
   "metadata": {
    "collapsed": false
   },
   "outputs": [
    {
     "name": "stdout",
     "output_type": "stream",
     "text": [
      "importing Jupyter notebook from DataProcess.ipynb\n"
     ]
    }
   ],
   "source": [
    "import os\n",
    "import sys\n",
    "import h5py\n",
    "import numpy as np\n",
    "import matplotlib as mpl\n",
    "path = '/tigress/ruix/vis/'\n",
    "os.chdir(path)\n",
    "import matplotlib.pyplot as plt\n",
    "#plt.style.use('apw-notebook.mplstyle')\n",
    "%matplotlib inline\n",
    "%run LoadNotebook\n",
    "import DataProcess as R\n",
    "#import matplotlib.cm as cmaps\n",
    "#from  matplotlib.colors import LogNorm\n",
    "from ipywidgets import widgets,interact,fixed\n",
    "from IPython.display import display"
   ]
  },
  {
   "cell_type": "code",
   "execution_count": 2,
   "metadata": {
    "collapsed": false
   },
   "outputs": [],
   "source": [
    "import os\n",
    "path = '/tigress/ruix/simu/1dang70mass100new/output/'\n",
    "os.chdir(path)"
   ]
  },
  {
   "cell_type": "code",
   "execution_count": 18,
   "metadata": {
    "collapsed": false
   },
   "outputs": [
    {
     "name": "stderr",
     "output_type": "stream",
     "text": [
      "/usr/licensed/anaconda/4.1.1/lib/python2.7/site-packages/ipykernel/__main__.py:21: VisibleDeprecationWarning: using a non-integer number instead of an integer will result in an error in the future\n",
      "/usr/licensed/anaconda/4.1.1/lib/python2.7/site-packages/ipykernel/__main__.py:23: VisibleDeprecationWarning: using a non-integer number instead of an integer will result in an error in the future\n"
     ]
    },
    {
     "data": {
      "text/plain": [
       "\"\\nfor ind in range(0,num):\\n    Tmpe[ind] = R.prtl_tmp_general_rel(ind*8+10,'e',xL, xR,shock=1,frame='rest')\\n    Tmpi[ind] = R.prtl_tmp_general_rel(ind*8+10,'i',xL, xR,shock=1,frame='rest')\\n    time[ind] = R.readparam('time',ind*8+10)\\nfig,ax = plt.subplots(3,sharex= True)\\nax[0].semilogx(time,Tmpi)\\nax[1].semilogx(time,Tmpe)\\nax[2].semilogx(time,Tmpe/Tmpi)\\n\\nax[2].set_xlabel('Time$[\\\\omega_{pe}^{-1}]$')\\nax[0].set_ylabel(r'$\\rm T_i/m_e c^2$')\\nax[1].set_ylabel(r'$\\rm T_e/m_e c^2$')\\nax[2].set_ylabel(r'$\\rm T_e/T_i$')\\n\\n\""
      ]
     },
     "execution_count": 18,
     "metadata": {},
     "output_type": "execute_result"
    },
    {
     "data": {
      "image/png": "[encoded data removed]",
      "text/plain": [
       "<matplotlib.figure.Figure at 0x2b671da40e50>"
      ]
     },
     "metadata": {},
     "output_type": "display_data"
    }
   ],
   "source": [
    "import os\n",
    "path = '/tigress/ruix/simu/1dang70mass100new/output/'\n",
    "#path = '/tigress/ruix/new_simu/1dang70mass100/output/'\n",
    "os.chdir(path)\n",
    "xL = 500\n",
    "xR = 1500\n",
    "num = 98\n",
    "Tmpe = np.zeros(num)\n",
    "Tmpi = np.zeros(num)\n",
    "time = np.zeros(num)\n",
    "\n",
    "for ind in range(0,num):\n",
    "    Tmpe[ind] = R.prtl_tmp_general_rel(ind*8+10,'e',xL, xR,shock=1,frame='')\n",
    "    Tmpi[ind] = R.prtl_tmp_general_rel(ind*8+10,'i',xL, xR,shock=1,frame='')\n",
    "    time[ind] = R.readparam('time',ind*8+10)\n",
    "    # ishf=index, xshf=position\n",
    "    ishf,xshf,sh_speed = R.shfind(ind*8+10)\n",
    "    xL1 = (xL + xshf)*R.readparam('c_omp')/R.readparam('istep')\n",
    "    xR1 = (xR + xshf)*R.readparam('c_omp')/R.readparam('istep')\n",
    "    dens = R.readflds('dens',ind*8+10)\n",
    "    dense = np.mean(dens[dens.shape[0]/2,xL1:xR1])/R.readparam('ppc0')\n",
    "    dens = R.readflds('densi',ind*8+10)\n",
    "    densi = np.mean(dens[dens.shape[0]/2,xL1:xR1])/R.readparam('ppc0')\n",
    "    #print densi,xshf,dens.shape[1]\n",
    "                    \n",
    "fig,ax = plt.subplots(3,sharex= True)\n",
    "ax[0].semilogx(time,Tmpi*densi)\n",
    "ax[1].semilogx(time,Tmpe*dense)\n",
    "ax[2].semilogx(time,Tmpe*dense/Tmpi/densi)\n",
    "\n",
    "ax[2].set_xlabel('Time$[\\omega_{pe}^{-1}]$')\n",
    "ax[0].set_ylabel(r'$\\rm P_i/n m_e c^2$')\n",
    "ax[1].set_ylabel(r'$\\rm P_e/n m_e c^2$')\n",
    "ax[2].set_ylabel(r'$\\rm P_e/P_i$')\n",
    "#ax[0].ticklabel_format(style='sci', axis='x', scilimits=(0,0))\n",
    "#fig.savefig('/tigress/ruix/vis/sample1.pdf')\n",
    "\n",
    "'''\n",
    "for ind in range(0,num):\n",
    "    Tmpe[ind] = R.prtl_tmp_general_rel(ind*8+10,'e',xL, xR,shock=1,frame='rest')\n",
    "    Tmpi[ind] = R.prtl_tmp_general_rel(ind*8+10,'i',xL, xR,shock=1,frame='rest')\n",
    "    time[ind] = R.readparam('time',ind*8+10)\n",
    "fig,ax = plt.subplots(3,sharex= True)\n",
    "ax[0].semilogx(time,Tmpi)\n",
    "ax[1].semilogx(time,Tmpe)\n",
    "ax[2].semilogx(time,Tmpe/Tmpi)\n",
    "\n",
    "ax[2].set_xlabel('Time$[\\omega_{pe}^{-1}]$')\n",
    "ax[0].set_ylabel(r'$\\rm T_i/m_e c^2$')\n",
    "ax[1].set_ylabel(r'$\\rm T_e/m_e c^2$')\n",
    "ax[2].set_ylabel(r'$\\rm T_e/T_i$')\n",
    "\n",
    "'''\n"
   ]
  },
  {
   "cell_type": "code",
   "execution_count": 4,
   "metadata": {
    "collapsed": false
   },
   "outputs": [
    {
     "name": "stdout",
     "output_type": "stream",
     "text": [
      "('sh_speed/c:', 0.081925925925925916)\n"
     ]
    },
    {
     "ename": "AttributeError",
     "evalue": "'module' object has no attribute 'prtl_tmp_geneal_rel'",
     "output_type": "error",
     "traceback": [
      "\u001b[1;31m\u001b[0m",
      "\u001b[1;31mAttributeError\u001b[0mTraceback (most recent call last)",
      "\u001b[1;32m<ipython-input-4-a3555cc77dc2>\u001b[0m in \u001b[0;36m<module>\u001b[1;34m()\u001b[0m\n\u001b[0;32m     13\u001b[0m     \u001b[0mxL\u001b[0m \u001b[1;33m=\u001b[0m \u001b[0mi\u001b[0m\u001b[1;33m*\u001b[0m\u001b[1;36m200\u001b[0m\u001b[1;33m\u001b[0m\u001b[0m\n\u001b[0;32m     14\u001b[0m     \u001b[0mxR\u001b[0m \u001b[1;33m=\u001b[0m \u001b[1;33m(\u001b[0m\u001b[0mi\u001b[0m\u001b[1;33m+\u001b[0m\u001b[1;36m1\u001b[0m\u001b[1;33m)\u001b[0m\u001b[1;33m*\u001b[0m\u001b[1;36m200\u001b[0m\u001b[1;33m\u001b[0m\u001b[0m\n\u001b[1;32m---> 15\u001b[1;33m     \u001b[0mPresi\u001b[0m\u001b[1;33m[\u001b[0m\u001b[0mi\u001b[0m\u001b[1;33m]\u001b[0m \u001b[1;33m=\u001b[0m \u001b[0mR\u001b[0m\u001b[1;33m.\u001b[0m\u001b[0mprtl_tmp_geneal_rel\u001b[0m\u001b[1;33m(\u001b[0m\u001b[0mind\u001b[0m\u001b[1;33m,\u001b[0m\u001b[1;34m'e'\u001b[0m\u001b[1;33m,\u001b[0m\u001b[0mxL\u001b[0m\u001b[1;33m,\u001b[0m\u001b[0mxR\u001b[0m\u001b[1;33m,\u001b[0m\u001b[0mshock\u001b[0m\u001b[1;33m=\u001b[0m\u001b[1;36m1\u001b[0m\u001b[1;33m,\u001b[0m\u001b[0mframe\u001b[0m\u001b[1;33m=\u001b[0m\u001b[1;34m'rest'\u001b[0m\u001b[1;33m)\u001b[0m\u001b[1;33m\u001b[0m\u001b[0m\n\u001b[0m\u001b[0;32m     16\u001b[0m     \u001b[0mPrese\u001b[0m\u001b[1;33m[\u001b[0m\u001b[0mi\u001b[0m\u001b[1;33m]\u001b[0m \u001b[1;33m=\u001b[0m \u001b[0mR\u001b[0m\u001b[1;33m.\u001b[0m\u001b[0mprtl_tmp_geneal_rel\u001b[0m\u001b[1;33m(\u001b[0m\u001b[0mind\u001b[0m\u001b[1;33m,\u001b[0m\u001b[1;34m'i'\u001b[0m\u001b[1;33m,\u001b[0m\u001b[0mxL\u001b[0m\u001b[1;33m,\u001b[0m\u001b[0mxR\u001b[0m\u001b[1;33m,\u001b[0m\u001b[0mshock\u001b[0m\u001b[1;33m=\u001b[0m\u001b[1;36m1\u001b[0m\u001b[1;33m,\u001b[0m\u001b[0mframe\u001b[0m\u001b[1;33m=\u001b[0m\u001b[1;34m'rest'\u001b[0m\u001b[1;33m)\u001b[0m\u001b[1;33m\u001b[0m\u001b[0m\n\u001b[0;32m     17\u001b[0m \u001b[0mplt\u001b[0m\u001b[1;33m.\u001b[0m\u001b[0mplot\u001b[0m\u001b[1;33m(\u001b[0m\u001b[0mxaxis\u001b[0m\u001b[1;33m,\u001b[0m\u001b[0mPresi\u001b[0m\u001b[1;33m,\u001b[0m\u001b[1;34m'k'\u001b[0m\u001b[1;33m)\u001b[0m\u001b[1;33m\u001b[0m\u001b[0m\n",
      "\u001b[1;31mAttributeError\u001b[0m: 'module' object has no attribute 'prtl_tmp_geneal_rel'"
     ]
    }
   ],
   "source": [
    "'''\n",
    "compare magnetosonic velocity including CRs pressure with downstream velocity\n",
    "'''\n",
    "# Find shock velocity \n",
    "ish,xsh,sh_speed = R.shfind(10)\n",
    "print ('sh_speed/c:',sh_speed)\n",
    "ind = 700\n",
    "num = 20\n",
    "Presi = np.linspace(0,0,num)\n",
    "Prese = np.linspace(0,0,num)\n",
    "xaxis = np.linspace(0,(num+1)*200,num)\n",
    "for i in range(num):\n",
    "    xL = i*200\n",
    "    xR = (i+1)*200\n",
    "    Presi[i] = R.prtl_tmp_general_rel(ind,'e',xL,xR,shock=1,frame='rest')\n",
    "    Prese[i] = R.prtl_tmp_general_rel(ind,'i',xL,xR,shock=1,frame='rest')\n",
    "plt.plot(xaxis,Presi,'k') \n",
    "plt.plot(xaxis,Prese,'e')\n"
   ]
  },
  {
   "cell_type": "code",
   "execution_count": null,
   "metadata": {
    "collapsed": true
   },
   "outputs": [],
   "source": [
    "from numpy.random import choices\n",
    "population = gamma\n",
    "weights = fgamma\n",
    "choices(population, weights)\n",
    "# \n",
    "fig, ax = plt.subplots(1, 1)\n",
    "from scipy.stats import maxwell\n",
    "r = maxwell.rvs(size=1000)\n",
    "ax.hist(r, normed=True, histtype='stepfilled', alpha=0.2)\n",
    "ax.legend(loc='best', frameon=False)"
   ]
  },
  {
   "cell_type": "code",
   "execution_count": null,
   "metadata": {
    "collapsed": true
   },
   "outputs": [],
   "source": [
    "\n",
    "def distribution(vb):\n",
    "    # random number seed\n",
    "    random.seed(time.time())\n",
    "\n",
    "    vmin = 0.\n",
    "    vmax = 5*vb\n",
    "    v = vmin +(vmax-vmin)*random.uniform(0,1)\n",
    "    # accept/reject value\n",
    "    f = np.exp (-(v - vb) * (v - vb) / 2.)\n",
    "    x = random.uniform(0, 1)\n",
    "    if (x > f):\n",
    "        return distribution (vb)\n",
    "    else:\n",
    "        return v"
   ]
  },
  {
   "cell_type": "code",
   "execution_count": null,
   "metadata": {
    "collapsed": true
   },
   "outputs": [],
   "source": [
    "vb = 10\n",
    "num = 100\n",
    "v = np.linspace(0,1,num)\n",
    "for i in range(num):\n",
    "    v[i] = distribution(vb)\n",
    "plt.hist(v, bins='auto')"
   ]
  }
 ],
 "metadata": {
  "kernelspec": {
   "display_name": "Python [Root]",
   "language": "python",
   "name": "Python [Root]"
  },
  "language_info": {
   "codemirror_mode": {
    "name": "ipython",
    "version": 2
   },
   "file_extension": ".py",
   "mimetype": "text/x-python",
   "name": "python",
   "nbconvert_exporter": "python",
   "pygments_lexer": "ipython2",
   "version": "2.7.12"
  }
 },
 "nbformat": 4,
 "nbformat_minor": 0
}

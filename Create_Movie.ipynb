{
 "cells": [
  {
   "cell_type": "code",
   "execution_count": 1,
   "metadata": {
    "collapsed": true
   },
   "outputs": [],
   "source": [
    "def CreateMovie(plotter, dpath, fname, numberOfFrames, Interval=1, StartInd=1, fps=5):\n",
    "    for i in range(numberOfFrames):\n",
    "        print('Movie making index: i=',i)\n",
    "        plotter(dpath,i*Interval+StartInd)\n",
    "        plt.savefig('fig/'+fname+str(i).zfill(3)+'.png',format='png')\n",
    "        plt.clf()\n",
    "    os.system(\"rm \" + fname +\".mp4\")\n",
    "    #os.system(\"ffmpeg -y -framerate \"+str(fps)+\" -i \"+'fig/'+fname+\"%03d.png\"+fname+\".mov\")\n",
    "    os.system(\"ffmpeg -y -f image2 -framerate 8 -pattern_type glob -i 'fig/*.png' -codec copy down.mov\")\n",
    "    os.system(\"rm fig/*\")"
   ]
  },
  {
   "cell_type": "code",
   "execution_count": null,
   "metadata": {
    "collapsed": true
   },
   "outputs": [],
   "source": [
    "fname = 'down2'\n",
    "CreateMovie(non_thermal, dpath, fname, numberOfFrames=20, Interval=1, StartInd=2, fps=5)"
   ]
  }
 ],
 "metadata": {
  "kernelspec": {
   "display_name": "Python [Root]",
   "language": "python",
   "name": "Python [Root]"
  },
  "language_info": {
   "codemirror_mode": {
    "name": "ipython",
    "version": 2
   },
   "file_extension": ".py",
   "mimetype": "text/x-python",
   "name": "python",
   "nbconvert_exporter": "python",
   "pygments_lexer": "ipython2",
   "version": "2.7.12"
  }
 },
 "nbformat": 4,
 "nbformat_minor": 0
}
